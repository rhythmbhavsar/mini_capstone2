{
 "cells": [
  {
   "cell_type": "code",
   "execution_count": 17,
   "id": "7be84ad1",
   "metadata": {},
   "outputs": [
    {
     "name": "stdout",
     "output_type": "stream",
     "text": [
      "3 7\n",
      "7 3\n"
     ]
    }
   ],
   "source": [
    "prime = []\n",
    "for Number in range (1, 101):\n",
    "    count = 0\n",
    "    for i in range(2, (Number//2 + 1)):\n",
    "        if(Number % i == 0):\n",
    "            count = count + 1\n",
    "            break\n",
    "\n",
    "    if (count == 0 and Number != 1):\n",
    "#         print(\" %d\" %Number, end = '  ')\n",
    "        prime.append(Number)\n",
    "\n",
    "n = 10\n",
    "num = n+1\n",
    "for i in range(1, num):\n",
    "    for j in range(1, nu  m):\n",
    "        if((i+j == n) and (n%j != 0) and (i and j in prime)):\n",
    "            print(i,j)"
   ]
  },
  {
   "cell_type": "code",
   "execution_count": 16,
   "id": "37ee96e0",
   "metadata": {},
   "outputs": [
    {
     "name": "stdout",
     "output_type": "stream",
     "text": [
      "Done\n"
     ]
    }
   ],
   "source": [
    "prime = []\n",
    "for Number in range (1, 101):\n",
    "    count = 0\n",
    "    for i in range(2, (Number//2 + 1)):\n",
    "        if(Number % i == 0):\n",
    "            count = count + 1\n",
    "            break\n",
    "\n",
    "    if (count == 0 and Number != 1 ):\n",
    "#         print(\" %d\" %Number, end = '  ')\n",
    "        prime.append(Number)\n",
    "    if(2 and 3 in prime):\n",
    "        print(\"Done\")\n",
    "        break\n"
   ]
  },
  {
   "cell_type": "code",
   "execution_count": 15,
   "id": "6b7d4841",
   "metadata": {
    "scrolled": true
   },
   "outputs": [],
   "source": [
    "def Goldbach(n):\n",
    "    num = n+1\n",
    "    prime = []\n",
    "    for Number in range (1, num):\n",
    "        count = 0\n",
    "        for i in range(2, (Number//2 + 1)):\n",
    "            if(Number % i == 0):\n",
    "                count = count + 1\n",
    "                break\n",
    "\n",
    "        if (count == 0 and Number != 1):\n",
    "    #         print(\" %d\" %Number, end = '  ')\n",
    "            prime.append(Number)\n",
    "    lst = []\n",
    "#     f_list = []\n",
    "    for i in range(1, num):\n",
    "        for j in range(1, num):\n",
    "            if((i+j == n) and (i in prime) and (j in prime)):\n",
    "                lst.append((i,j))\n",
    "               \n",
    "            \n",
    "                \n",
    "    return(lst)"
   ]
  },
  {
   "cell_type": "code",
   "execution_count": 16,
   "id": "99e95948",
   "metadata": {
    "scrolled": false
   },
   "outputs": [
    {
     "data": {
      "text/plain": [
       "[(2, 211), (211, 2)]"
      ]
     },
     "execution_count": 16,
     "metadata": {},
     "output_type": "execute_result"
    }
   ],
   "source": [
    "Goldbach(213)"
   ]
  },
  {
   "cell_type": "code",
   "execution_count": 14,
   "id": "24005aa1",
   "metadata": {},
   "outputs": [
    {
     "data": {
      "text/plain": [
       "6"
      ]
     },
     "execution_count": 14,
     "metadata": {},
     "output_type": "execute_result"
    }
   ],
   "source": [
    "def Find_Min_Difference(l,p):\n",
    "    result = 10\n",
    "    l.sort()\n",
    "    n = len(l)\n",
    "    \n",
    "    for i in range(n-p+1):\n",
    "        result = int(min(result, l[i+p-1] - l[i]))\n",
    "        \n",
    "    return result\n",
    "\n",
    "l = [3, 4, 1, 9, 56, 7, 9, 12]\n",
    "p = 5\n",
    "Find_Min_Difference(l,p)"
   ]
  },
  {
   "cell_type": "code",
   "execution_count": 17,
   "id": "b32fbb6f",
   "metadata": {},
   "outputs": [],
   "source": [
    "def odd_one(L):\n",
    "    for i in L:\n",
    "        if type(i) != int:\n",
    "            return type(i)\n",
    "    return int"
   ]
  },
  {
   "cell_type": "code",
   "execution_count": 18,
   "id": "bfd47ade",
   "metadata": {},
   "outputs": [
    {
     "data": {
      "text/plain": [
       "str"
      ]
     },
     "execution_count": 18,
     "metadata": {},
     "output_type": "execute_result"
    }
   ],
   "source": [
    "odd_one([1,2,4,'5',54])"
   ]
  }
 ],
 "metadata": {
  "kernelspec": {
   "display_name": "Python 3 (ipykernel)",
   "language": "python",
   "name": "python3"
  },
  "language_info": {
   "codemirror_mode": {
    "name": "ipython",
    "version": 3
   },
   "file_extension": ".py",
   "mimetype": "text/x-python",
   "name": "python",
   "nbconvert_exporter": "python",
   "pygments_lexer": "ipython3",
   "version": "3.9.7"
  }
 },
 "nbformat": 4,
 "nbformat_minor": 5
}
